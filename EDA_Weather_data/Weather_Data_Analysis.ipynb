{
 "cells": [
  {
   "cell_type": "markdown",
   "metadata": {},
   "source": [
    "# Weather Dataset\n",
    "\n",
    "**Objectives:** \n",
    "- Work with time-series weather data, calculate temperature averages, and\n",
    "visualize seasonal changes.\n"
   ]
  },
  {
   "cell_type": "markdown",
   "metadata": {},
   "source": [
    "---------------\n",
    "## Import Libraries\n",
    "---------------"
   ]
  },
  {
   "cell_type": "code",
   "execution_count": 1,
   "metadata": {},
   "outputs": [],
   "source": [
    "import pandas as pd\n",
    "import numpy as np\n",
    "import matplotlib.pyplot as plt\n",
    "import seaborn as sns\n",
    "import warnings\n",
    "warnings.filterwarnings('ignore')\n",
    "import missingno as msno"
   ]
  },
  {
   "cell_type": "markdown",
   "metadata": {},
   "source": [
    "--------------\n",
    "## Load Dataset\n",
    "------------------"
   ]
  },
  {
   "cell_type": "code",
   "execution_count": 2,
   "metadata": {},
   "outputs": [
    {
     "data": {
      "text/html": [
       "<div>\n",
       "<style scoped>\n",
       "    .dataframe tbody tr th:only-of-type {\n",
       "        vertical-align: middle;\n",
       "    }\n",
       "\n",
       "    .dataframe tbody tr th {\n",
       "        vertical-align: top;\n",
       "    }\n",
       "\n",
       "    .dataframe thead th {\n",
       "        text-align: right;\n",
       "    }\n",
       "</style>\n",
       "<table border=\"1\" class=\"dataframe\">\n",
       "  <thead>\n",
       "    <tr style=\"text-align: right;\">\n",
       "      <th></th>\n",
       "      <th>Formatted Date</th>\n",
       "      <th>Summary</th>\n",
       "      <th>Precip Type</th>\n",
       "      <th>Temperature (C)</th>\n",
       "      <th>Apparent Temperature (C)</th>\n",
       "      <th>Humidity</th>\n",
       "      <th>Wind Speed (km/h)</th>\n",
       "      <th>Wind Bearing (degrees)</th>\n",
       "      <th>Visibility (km)</th>\n",
       "      <th>Loud Cover</th>\n",
       "      <th>Pressure (millibars)</th>\n",
       "      <th>Daily Summary</th>\n",
       "    </tr>\n",
       "  </thead>\n",
       "  <tbody>\n",
       "    <tr>\n",
       "      <th>0</th>\n",
       "      <td>2006-04-01 00:00:00.000 +0200</td>\n",
       "      <td>Partly Cloudy</td>\n",
       "      <td>rain</td>\n",
       "      <td>9.472222</td>\n",
       "      <td>7.388889</td>\n",
       "      <td>0.89</td>\n",
       "      <td>14.1197</td>\n",
       "      <td>251.0</td>\n",
       "      <td>15.8263</td>\n",
       "      <td>0.0</td>\n",
       "      <td>1015.13</td>\n",
       "      <td>Partly cloudy throughout the day.</td>\n",
       "    </tr>\n",
       "    <tr>\n",
       "      <th>1</th>\n",
       "      <td>2006-04-01 01:00:00.000 +0200</td>\n",
       "      <td>Partly Cloudy</td>\n",
       "      <td>rain</td>\n",
       "      <td>9.355556</td>\n",
       "      <td>7.227778</td>\n",
       "      <td>0.86</td>\n",
       "      <td>14.2646</td>\n",
       "      <td>259.0</td>\n",
       "      <td>15.8263</td>\n",
       "      <td>0.0</td>\n",
       "      <td>1015.63</td>\n",
       "      <td>Partly cloudy throughout the day.</td>\n",
       "    </tr>\n",
       "    <tr>\n",
       "      <th>2</th>\n",
       "      <td>2006-04-01 02:00:00.000 +0200</td>\n",
       "      <td>Mostly Cloudy</td>\n",
       "      <td>rain</td>\n",
       "      <td>9.377778</td>\n",
       "      <td>9.377778</td>\n",
       "      <td>0.89</td>\n",
       "      <td>3.9284</td>\n",
       "      <td>204.0</td>\n",
       "      <td>14.9569</td>\n",
       "      <td>0.0</td>\n",
       "      <td>1015.94</td>\n",
       "      <td>Partly cloudy throughout the day.</td>\n",
       "    </tr>\n",
       "    <tr>\n",
       "      <th>3</th>\n",
       "      <td>2006-04-01 03:00:00.000 +0200</td>\n",
       "      <td>Partly Cloudy</td>\n",
       "      <td>rain</td>\n",
       "      <td>8.288889</td>\n",
       "      <td>5.944444</td>\n",
       "      <td>0.83</td>\n",
       "      <td>14.1036</td>\n",
       "      <td>269.0</td>\n",
       "      <td>15.8263</td>\n",
       "      <td>0.0</td>\n",
       "      <td>1016.41</td>\n",
       "      <td>Partly cloudy throughout the day.</td>\n",
       "    </tr>\n",
       "    <tr>\n",
       "      <th>4</th>\n",
       "      <td>2006-04-01 04:00:00.000 +0200</td>\n",
       "      <td>Mostly Cloudy</td>\n",
       "      <td>rain</td>\n",
       "      <td>8.755556</td>\n",
       "      <td>6.977778</td>\n",
       "      <td>0.83</td>\n",
       "      <td>11.0446</td>\n",
       "      <td>259.0</td>\n",
       "      <td>15.8263</td>\n",
       "      <td>0.0</td>\n",
       "      <td>1016.51</td>\n",
       "      <td>Partly cloudy throughout the day.</td>\n",
       "    </tr>\n",
       "  </tbody>\n",
       "</table>\n",
       "</div>"
      ],
      "text/plain": [
       "                  Formatted Date        Summary Precip Type  Temperature (C)  \\\n",
       "0  2006-04-01 00:00:00.000 +0200  Partly Cloudy        rain         9.472222   \n",
       "1  2006-04-01 01:00:00.000 +0200  Partly Cloudy        rain         9.355556   \n",
       "2  2006-04-01 02:00:00.000 +0200  Mostly Cloudy        rain         9.377778   \n",
       "3  2006-04-01 03:00:00.000 +0200  Partly Cloudy        rain         8.288889   \n",
       "4  2006-04-01 04:00:00.000 +0200  Mostly Cloudy        rain         8.755556   \n",
       "\n",
       "   Apparent Temperature (C)  Humidity  Wind Speed (km/h)  \\\n",
       "0                  7.388889      0.89            14.1197   \n",
       "1                  7.227778      0.86            14.2646   \n",
       "2                  9.377778      0.89             3.9284   \n",
       "3                  5.944444      0.83            14.1036   \n",
       "4                  6.977778      0.83            11.0446   \n",
       "\n",
       "   Wind Bearing (degrees)  Visibility (km)  Loud Cover  Pressure (millibars)  \\\n",
       "0                   251.0          15.8263         0.0               1015.13   \n",
       "1                   259.0          15.8263         0.0               1015.63   \n",
       "2                   204.0          14.9569         0.0               1015.94   \n",
       "3                   269.0          15.8263         0.0               1016.41   \n",
       "4                   259.0          15.8263         0.0               1016.51   \n",
       "\n",
       "                       Daily Summary  \n",
       "0  Partly cloudy throughout the day.  \n",
       "1  Partly cloudy throughout the day.  \n",
       "2  Partly cloudy throughout the day.  \n",
       "3  Partly cloudy throughout the day.  \n",
       "4  Partly cloudy throughout the day.  "
      ]
     },
     "execution_count": 2,
     "metadata": {},
     "output_type": "execute_result"
    }
   ],
   "source": [
    "df = pd.read_csv('D:/Bistartx Intership/Month-1/EDA_Weather_data/weatherHistory.csv')\n",
    "df.head()"
   ]
  },
  {
   "cell_type": "code",
   "execution_count": 3,
   "metadata": {},
   "outputs": [
    {
     "name": "stdout",
     "output_type": "stream",
     "text": [
      "<class 'pandas.core.frame.DataFrame'>\n",
      "RangeIndex: 96453 entries, 0 to 96452\n",
      "Data columns (total 12 columns):\n",
      " #   Column                    Non-Null Count  Dtype  \n",
      "---  ------                    --------------  -----  \n",
      " 0   Formatted Date            96453 non-null  object \n",
      " 1   Summary                   96453 non-null  object \n",
      " 2   Precip Type               95936 non-null  object \n",
      " 3   Temperature (C)           96453 non-null  float64\n",
      " 4   Apparent Temperature (C)  96453 non-null  float64\n",
      " 5   Humidity                  96453 non-null  float64\n",
      " 6   Wind Speed (km/h)         96453 non-null  float64\n",
      " 7   Wind Bearing (degrees)    96453 non-null  float64\n",
      " 8   Visibility (km)           96453 non-null  float64\n",
      " 9   Loud Cover                96453 non-null  float64\n",
      " 10  Pressure (millibars)      96453 non-null  float64\n",
      " 11  Daily Summary             96453 non-null  object \n",
      "dtypes: float64(8), object(4)\n",
      "memory usage: 8.8+ MB\n"
     ]
    },
    {
     "data": {
      "text/html": [
       "<div>\n",
       "<style scoped>\n",
       "    .dataframe tbody tr th:only-of-type {\n",
       "        vertical-align: middle;\n",
       "    }\n",
       "\n",
       "    .dataframe tbody tr th {\n",
       "        vertical-align: top;\n",
       "    }\n",
       "\n",
       "    .dataframe thead th {\n",
       "        text-align: right;\n",
       "    }\n",
       "</style>\n",
       "<table border=\"1\" class=\"dataframe\">\n",
       "  <thead>\n",
       "    <tr style=\"text-align: right;\">\n",
       "      <th></th>\n",
       "      <th>Temperature (C)</th>\n",
       "      <th>Apparent Temperature (C)</th>\n",
       "      <th>Humidity</th>\n",
       "      <th>Wind Speed (km/h)</th>\n",
       "      <th>Wind Bearing (degrees)</th>\n",
       "      <th>Visibility (km)</th>\n",
       "      <th>Loud Cover</th>\n",
       "      <th>Pressure (millibars)</th>\n",
       "    </tr>\n",
       "  </thead>\n",
       "  <tbody>\n",
       "    <tr>\n",
       "      <th>count</th>\n",
       "      <td>96453.000000</td>\n",
       "      <td>96453.000000</td>\n",
       "      <td>96453.000000</td>\n",
       "      <td>96453.000000</td>\n",
       "      <td>96453.000000</td>\n",
       "      <td>96453.000000</td>\n",
       "      <td>96453.0</td>\n",
       "      <td>96453.000000</td>\n",
       "    </tr>\n",
       "    <tr>\n",
       "      <th>mean</th>\n",
       "      <td>11.932678</td>\n",
       "      <td>10.855029</td>\n",
       "      <td>0.734899</td>\n",
       "      <td>10.810640</td>\n",
       "      <td>187.509232</td>\n",
       "      <td>10.347325</td>\n",
       "      <td>0.0</td>\n",
       "      <td>1003.235956</td>\n",
       "    </tr>\n",
       "    <tr>\n",
       "      <th>std</th>\n",
       "      <td>9.551546</td>\n",
       "      <td>10.696847</td>\n",
       "      <td>0.195473</td>\n",
       "      <td>6.913571</td>\n",
       "      <td>107.383428</td>\n",
       "      <td>4.192123</td>\n",
       "      <td>0.0</td>\n",
       "      <td>116.969906</td>\n",
       "    </tr>\n",
       "    <tr>\n",
       "      <th>min</th>\n",
       "      <td>-21.822222</td>\n",
       "      <td>-27.716667</td>\n",
       "      <td>0.000000</td>\n",
       "      <td>0.000000</td>\n",
       "      <td>0.000000</td>\n",
       "      <td>0.000000</td>\n",
       "      <td>0.0</td>\n",
       "      <td>0.000000</td>\n",
       "    </tr>\n",
       "    <tr>\n",
       "      <th>25%</th>\n",
       "      <td>4.688889</td>\n",
       "      <td>2.311111</td>\n",
       "      <td>0.600000</td>\n",
       "      <td>5.828200</td>\n",
       "      <td>116.000000</td>\n",
       "      <td>8.339800</td>\n",
       "      <td>0.0</td>\n",
       "      <td>1011.900000</td>\n",
       "    </tr>\n",
       "    <tr>\n",
       "      <th>50%</th>\n",
       "      <td>12.000000</td>\n",
       "      <td>12.000000</td>\n",
       "      <td>0.780000</td>\n",
       "      <td>9.965900</td>\n",
       "      <td>180.000000</td>\n",
       "      <td>10.046400</td>\n",
       "      <td>0.0</td>\n",
       "      <td>1016.450000</td>\n",
       "    </tr>\n",
       "    <tr>\n",
       "      <th>75%</th>\n",
       "      <td>18.838889</td>\n",
       "      <td>18.838889</td>\n",
       "      <td>0.890000</td>\n",
       "      <td>14.135800</td>\n",
       "      <td>290.000000</td>\n",
       "      <td>14.812000</td>\n",
       "      <td>0.0</td>\n",
       "      <td>1021.090000</td>\n",
       "    </tr>\n",
       "    <tr>\n",
       "      <th>max</th>\n",
       "      <td>39.905556</td>\n",
       "      <td>39.344444</td>\n",
       "      <td>1.000000</td>\n",
       "      <td>63.852600</td>\n",
       "      <td>359.000000</td>\n",
       "      <td>16.100000</td>\n",
       "      <td>0.0</td>\n",
       "      <td>1046.380000</td>\n",
       "    </tr>\n",
       "  </tbody>\n",
       "</table>\n",
       "</div>"
      ],
      "text/plain": [
       "       Temperature (C)  Apparent Temperature (C)      Humidity  \\\n",
       "count     96453.000000              96453.000000  96453.000000   \n",
       "mean         11.932678                 10.855029      0.734899   \n",
       "std           9.551546                 10.696847      0.195473   \n",
       "min         -21.822222                -27.716667      0.000000   \n",
       "25%           4.688889                  2.311111      0.600000   \n",
       "50%          12.000000                 12.000000      0.780000   \n",
       "75%          18.838889                 18.838889      0.890000   \n",
       "max          39.905556                 39.344444      1.000000   \n",
       "\n",
       "       Wind Speed (km/h)  Wind Bearing (degrees)  Visibility (km)  Loud Cover  \\\n",
       "count       96453.000000            96453.000000     96453.000000     96453.0   \n",
       "mean           10.810640              187.509232        10.347325         0.0   \n",
       "std             6.913571              107.383428         4.192123         0.0   \n",
       "min             0.000000                0.000000         0.000000         0.0   \n",
       "25%             5.828200              116.000000         8.339800         0.0   \n",
       "50%             9.965900              180.000000        10.046400         0.0   \n",
       "75%            14.135800              290.000000        14.812000         0.0   \n",
       "max            63.852600              359.000000        16.100000         0.0   \n",
       "\n",
       "       Pressure (millibars)  \n",
       "count          96453.000000  \n",
       "mean            1003.235956  \n",
       "std              116.969906  \n",
       "min                0.000000  \n",
       "25%             1011.900000  \n",
       "50%             1016.450000  \n",
       "75%             1021.090000  \n",
       "max             1046.380000  "
      ]
     },
     "execution_count": 3,
     "metadata": {},
     "output_type": "execute_result"
    }
   ],
   "source": [
    "df.info()\n",
    "df.describe()"
   ]
  },
  {
   "cell_type": "markdown",
   "metadata": {},
   "source": [
    "**We have 96453 rows and 12 columns in our dataset**\n",
    "\n",
    "------------------"
   ]
  },
  {
   "cell_type": "markdown",
   "metadata": {},
   "source": [
    "## Summary of Data\n",
    "------------------\n",
    "**Temperature (C):**\n",
    "- Represents the actual recorded air temperature in degrees Celsius (°C).\n",
    "- The values range from -21.82°C to 39.91°C.\n",
    "- Mean temperature: 11.93°C.\n",
    "\n",
    "**Apparent Temperature (C):**\n",
    "- Also known as the \"feels-like\" temperature, it accounts for humidity and wind conditions.\n",
    "- It can be lower or higher than actual temperature depending on wind chill or heat index.\n",
    "- The values range from -27.72°C to 39.34°C.\n",
    "- Mean apparent temperature: 10.86°C.\n",
    "\n",
    "**Humidity:**\n",
    "- Measures the amount of moisture in the air on a scale from 0 to 1 (where 1 = 100% humidity).\n",
    "- The values range from 0.00 (completely dry) to 1.00 (fully saturated air).\n",
    "- Mean humidity: 0.73 (73%).\n",
    "\n",
    "**Wind Speed (km/h):**\n",
    "- The speed of the wind at the time of measurement, in kilometers per hour.\n",
    "- The values range from 0 km/h (no wind) to 63.85 km/h (strong wind).\n",
    "- Mean wind speed: 10.81 km/h.\n",
    "\n",
    "**Wind Bearing (degrees):**\n",
    "- The direction from which the wind is coming, measured in degrees (0° to 359°).\n",
    "- 0° = North, 90° = East, 180° = South, 270° = West.\n",
    "- Mean wind bearing: 187.51° (mostly from the south).\n",
    "\n",
    "**Visibility (km):**\n",
    "- The distance one can see clearly, measured in kilometers.\n",
    "- The values range from 0 km (very poor visibility) to 16.1 km (clear visibility).\n",
    "- Mean visibility: 10.35 km.\n",
    "\n",
    "**Loud Cover (Likely a typo, should be Cloud Cover):**\n",
    "- Indicates how much of the sky is covered by clouds, usually on a scale from 0 to 1.\n",
    "- In this dataset, it's 0.0 for all entries, which may indicate missing or irrelevant data.\n",
    "\n",
    "**Pressure (millibars):**\n",
    "- Atmospheric pressure at the time of measurement, in millibars (hPa).\n",
    "- The values range from 0.00 (likely an error) to 1046.38 mb.\n",
    "- Mean pressure: 1003.24 mb.\n",
    "\n",
    "----------------"
   ]
  },
  {
   "cell_type": "markdown",
   "metadata": {},
   "source": [
    "## Errors Handling\n",
    "--------------"
   ]
  },
  {
   "cell_type": "markdown",
   "metadata": {},
   "source": [
    "### Deal with missing values"
   ]
  },
  {
   "cell_type": "code",
   "execution_count": 4,
   "metadata": {},
   "outputs": [
    {
     "data": {
      "text/plain": [
       "Precip Type                 0.536012\n",
       "Formatted Date              0.000000\n",
       "Summary                     0.000000\n",
       "Temperature (C)             0.000000\n",
       "Apparent Temperature (C)    0.000000\n",
       "Humidity                    0.000000\n",
       "Wind Speed (km/h)           0.000000\n",
       "Wind Bearing (degrees)      0.000000\n",
       "Visibility (km)             0.000000\n",
       "Loud Cover                  0.000000\n",
       "Pressure (millibars)        0.000000\n",
       "Daily Summary               0.000000\n",
       "dtype: float64"
      ]
     },
     "execution_count": 4,
     "metadata": {},
     "output_type": "execute_result"
    }
   ],
   "source": [
    "missing = df.isnull().mean() * 100\n",
    "missing.sort_values(ascending=False)"
   ]
  },
  {
   "cell_type": "code",
   "execution_count": 5,
   "metadata": {},
   "outputs": [
    {
     "data": {
      "text/plain": [
       "Precip Type\n",
       "rain    85224\n",
       "snow    10712\n",
       "Name: count, dtype: int64"
      ]
     },
     "execution_count": 5,
     "metadata": {},
     "output_type": "execute_result"
    }
   ],
   "source": [
    "df['Precip Type'].value_counts()"
   ]
  },
  {
   "cell_type": "markdown",
   "metadata": {},
   "source": [
    "**Only 0.53% of the data is missing, rain value are to much so we impute with `rain`.**"
   ]
  },
  {
   "cell_type": "code",
   "execution_count": 6,
   "metadata": {},
   "outputs": [
    {
     "data": {
      "text/plain": [
       "'rain'"
      ]
     },
     "execution_count": 6,
     "metadata": {},
     "output_type": "execute_result"
    }
   ],
   "source": [
    "df['Precip Type'].mode()[0]"
   ]
  },
  {
   "cell_type": "code",
   "execution_count": 7,
   "metadata": {},
   "outputs": [
    {
     "data": {
      "text/plain": [
       "Formatted Date              0.0\n",
       "Summary                     0.0\n",
       "Precip Type                 0.0\n",
       "Temperature (C)             0.0\n",
       "Apparent Temperature (C)    0.0\n",
       "Humidity                    0.0\n",
       "Wind Speed (km/h)           0.0\n",
       "Wind Bearing (degrees)      0.0\n",
       "Visibility (km)             0.0\n",
       "Loud Cover                  0.0\n",
       "Pressure (millibars)        0.0\n",
       "Daily Summary               0.0\n",
       "dtype: float64"
      ]
     },
     "execution_count": 7,
     "metadata": {},
     "output_type": "execute_result"
    }
   ],
   "source": [
    "df['Precip Type'] = df['Precip Type'].fillna(value='rain')\n",
    "df.isnull().mean() * 100"
   ]
  },
  {
   "cell_type": "markdown",
   "metadata": {},
   "source": [
    "------------"
   ]
  },
  {
   "cell_type": "markdown",
   "metadata": {},
   "source": [
    "### Deal with inconsistent data"
   ]
  },
  {
   "cell_type": "markdown",
   "metadata": {},
   "source": [
    "**Loud Cover**"
   ]
  },
  {
   "cell_type": "code",
   "execution_count": 8,
   "metadata": {},
   "outputs": [
    {
     "data": {
      "text/plain": [
       "Loud Cover\n",
       "0.0    96453\n",
       "Name: count, dtype: int64"
      ]
     },
     "execution_count": 8,
     "metadata": {},
     "output_type": "execute_result"
    }
   ],
   "source": [
    "df['Loud Cover'].value_counts()"
   ]
  },
  {
   "cell_type": "markdown",
   "metadata": {},
   "source": [
    "**In this dataset, it's 0.0 for all entries, which may indicate missing or irrelevant data. So no useful information we can take from this column. We drop this column**\n"
   ]
  },
  {
   "cell_type": "code",
   "execution_count": 9,
   "metadata": {},
   "outputs": [],
   "source": [
    "df.drop(columns=['Loud Cover'], axis= 1, inplace= True)"
   ]
  },
  {
   "cell_type": "markdown",
   "metadata": {},
   "source": [
    "**Formatted Date**"
   ]
  },
  {
   "cell_type": "code",
   "execution_count": 10,
   "metadata": {},
   "outputs": [
    {
     "data": {
      "text/plain": [
       "Formatted Date\n",
       "2010-08-02 00:00:00.000 +0200    2\n",
       "2010-08-02 12:00:00.000 +0200    2\n",
       "2010-08-02 03:00:00.000 +0200    2\n",
       "2010-08-02 04:00:00.000 +0200    2\n",
       "2010-08-02 05:00:00.000 +0200    2\n",
       "Name: count, dtype: int64"
      ]
     },
     "execution_count": 10,
     "metadata": {},
     "output_type": "execute_result"
    }
   ],
   "source": [
    "df['Formatted Date'].value_counts().head()"
   ]
  },
  {
   "cell_type": "markdown",
   "metadata": {},
   "source": [
    "**The \"Formatted Date\" column represents the timestamp of each weather observation**\n",
    "- 2010-08-02 → The date in YYYY-MM-DD format (Year-Month-Day).\n",
    "- 00:00:00.000 → The time in HH:MM:SS.sss format (Hour:Minute:Second.Milliseconds).\n",
    "- +0200 → The timezone offset from UTC (Coordinated Universal Time).\n",
    "\n",
    "So we break down that column into Year-Month-Day, Extract time, and timezone offset."
   ]
  },
  {
   "cell_type": "code",
   "execution_count": 11,
   "metadata": {},
   "outputs": [],
   "source": [
    "df['Formatted Date'] = pd.to_datetime(df['Formatted Date'], utc=True)"
   ]
  },
  {
   "cell_type": "markdown",
   "metadata": {},
   "source": [
    "Extarct Year-Month-Day"
   ]
  },
  {
   "cell_type": "code",
   "execution_count": 12,
   "metadata": {},
   "outputs": [],
   "source": [
    "df['Year'] = df['Formatted Date'].dt.year\n",
    "df['Month'] = df['Formatted Date'].dt.month\n",
    "df['Day'] = df['Formatted Date'].dt.day_name()"
   ]
  },
  {
   "cell_type": "code",
   "execution_count": 13,
   "metadata": {},
   "outputs": [
    {
     "name": "stdout",
     "output_type": "stream",
     "text": [
      "Year\n",
      "2010    8784\n",
      "2008    8784\n",
      "2012    8784\n",
      "2016    8783\n",
      "2006    8760\n",
      "2007    8760\n",
      "2009    8760\n",
      "2011    8760\n",
      "2013    8760\n",
      "2015    8760\n",
      "2014    8757\n",
      "2005       1\n",
      "Name: count, dtype: int64\n",
      "--------\n",
      "Month\n",
      "8     8208\n",
      "3     8184\n",
      "12    8184\n",
      "1     8184\n",
      "5     8184\n",
      "10    8184\n",
      "7     8181\n",
      "4     7920\n",
      "11    7920\n",
      "6     7920\n",
      "9     7920\n",
      "2     7464\n",
      "Name: count, dtype: int64\n",
      "--------\n",
      "Day\n",
      "Monday       13797\n",
      "Friday       13776\n",
      "Saturday     13776\n",
      "Sunday       13776\n",
      "Tuesday      13776\n",
      "Wednesday    13776\n",
      "Thursday     13776\n",
      "Name: count, dtype: int64\n",
      "--------\n"
     ]
    }
   ],
   "source": [
    "col = ['Year', 'Month', 'Day']\n",
    "for i in col:\n",
    "    print(df[i].value_counts())\n",
    "    print('--------')"
   ]
  },
  {
   "cell_type": "markdown",
   "metadata": {},
   "source": [
    "**Observations**\n",
    "- Year: The data spans from 2005 to 2016. There are 12 years of data.\n",
    "- Month: The data covers all 12 months of the year.\n",
    "- Day: Something interesting to note is that the day values are uniformaly distributed."
   ]
  },
  {
   "cell_type": "markdown",
   "metadata": {},
   "source": [
    "**The data is recorded for 24hrs interval. Only hrs data is recorded, no minutes and seconds are recorded. Also the data is uniformaly distributed.**"
   ]
  },
  {
   "cell_type": "markdown",
   "metadata": {},
   "source": [
    "**Extract Hour**"
   ]
  },
  {
   "cell_type": "code",
   "execution_count": 14,
   "metadata": {},
   "outputs": [],
   "source": [
    "df['Hour'] = df['Formatted Date'].dt.hour"
   ]
  },
  {
   "cell_type": "code",
   "execution_count": 15,
   "metadata": {},
   "outputs": [
    {
     "data": {
      "text/plain": [
       "Hour\n",
       "10    4019\n",
       "11    4019\n",
       "20    4019\n",
       "19    4019\n",
       "18    4019\n",
       "17    4019\n",
       "16    4019\n",
       "15    4019\n",
       "14    4019\n",
       "13    4019\n",
       "12    4019\n",
       "21    4019\n",
       "9     4019\n",
       "8     4019\n",
       "7     4019\n",
       "6     4019\n",
       "5     4019\n",
       "4     4019\n",
       "3     4019\n",
       "2     4019\n",
       "1     4019\n",
       "23    4018\n",
       "0     4018\n",
       "22    4018\n",
       "Name: count, dtype: int64"
      ]
     },
     "execution_count": 15,
     "metadata": {},
     "output_type": "execute_result"
    }
   ],
   "source": [
    "df['Hour'].value_counts()"
   ]
  },
  {
   "cell_type": "markdown",
   "metadata": {},
   "source": [
    "**Pressure (millibars)**"
   ]
  },
  {
   "cell_type": "code",
   "execution_count": 16,
   "metadata": {},
   "outputs": [
    {
     "data": {
      "text/plain": [
       "count    96453.000000\n",
       "mean      1003.235956\n",
       "std        116.969906\n",
       "min          0.000000\n",
       "25%       1011.900000\n",
       "50%       1016.450000\n",
       "75%       1021.090000\n",
       "max       1046.380000\n",
       "Name: Pressure (millibars), dtype: float64"
      ]
     },
     "execution_count": 16,
     "metadata": {},
     "output_type": "execute_result"
    }
   ],
   "source": [
    "df['Pressure (millibars)'].describe()"
   ]
  },
  {
   "cell_type": "markdown",
   "metadata": {},
   "source": [
    "- A 0 mb pressure would mean a perfect vacuum, which does not naturally occur on Earth's surface or atmosphere.\n",
    "- The lowest pressure recorded on Earth's surface is approximately 870 mb.\n",
    "- It is a wrong data."
   ]
  },
  {
   "cell_type": "code",
   "execution_count": 17,
   "metadata": {},
   "outputs": [
    {
     "data": {
      "text/plain": [
       "1288"
      ]
     },
     "execution_count": 17,
     "metadata": {},
     "output_type": "execute_result"
    }
   ],
   "source": [
    "df[df['Pressure (millibars)'] < 900]['Pressure (millibars)'].count()"
   ]
  },
  {
   "cell_type": "markdown",
   "metadata": {},
   "source": [
    "**We have 1288 rows wrong information** "
   ]
  },
  {
   "cell_type": "code",
   "execution_count": 18,
   "metadata": {},
   "outputs": [
    {
     "name": "stdout",
     "output_type": "stream",
     "text": [
      "The total number of rows and columns are: (96453, 15)\n",
      "The total number of effected rows are: 1288\n",
      "The effected rows percentage is: 1.3353654111328834\n"
     ]
    }
   ],
   "source": [
    "print(f'The total number of rows and columns are: {df.shape}')\n",
    "print(f'The total number of effected rows are: {df[df['Pressure (millibars)'] < 900].shape[0]}')\n",
    "print(f'The effected rows percentage is: {(1288 / 96453) * 100}')"
   ]
  },
  {
   "cell_type": "markdown",
   "metadata": {},
   "source": [
    "**Since it's weather data and the percentage of missing values is only ~1.34%, the best approach is to drop those rows instead of filling them with estimated values.**"
   ]
  },
  {
   "cell_type": "code",
   "execution_count": 19,
   "metadata": {},
   "outputs": [],
   "source": [
    "df = df[df['Pressure (millibars)'] != 0]"
   ]
  },
  {
   "cell_type": "markdown",
   "metadata": {},
   "source": [
    "**Summary and Daily Summary values are same so we can remove one of them**"
   ]
  },
  {
   "cell_type": "code",
   "execution_count": 20,
   "metadata": {},
   "outputs": [],
   "source": [
    "df = df.drop(columns=['Daily Summary'], axis=1)"
   ]
  },
  {
   "cell_type": "code",
   "execution_count": 21,
   "metadata": {},
   "outputs": [
    {
     "name": "stdout",
     "output_type": "stream",
     "text": [
      "<class 'pandas.core.frame.DataFrame'>\n",
      "Index: 95165 entries, 0 to 96452\n",
      "Data columns (total 14 columns):\n",
      " #   Column                    Non-Null Count  Dtype              \n",
      "---  ------                    --------------  -----              \n",
      " 0   Formatted Date            95165 non-null  datetime64[ns, UTC]\n",
      " 1   Summary                   95165 non-null  object             \n",
      " 2   Precip Type               95165 non-null  object             \n",
      " 3   Temperature (C)           95165 non-null  float64            \n",
      " 4   Apparent Temperature (C)  95165 non-null  float64            \n",
      " 5   Humidity                  95165 non-null  float64            \n",
      " 6   Wind Speed (km/h)         95165 non-null  float64            \n",
      " 7   Wind Bearing (degrees)    95165 non-null  float64            \n",
      " 8   Visibility (km)           95165 non-null  float64            \n",
      " 9   Pressure (millibars)      95165 non-null  float64            \n",
      " 10  Year                      95165 non-null  int32              \n",
      " 11  Month                     95165 non-null  int32              \n",
      " 12  Day                       95165 non-null  object             \n",
      " 13  Hour                      95165 non-null  int32              \n",
      "dtypes: datetime64[ns, UTC](1), float64(7), int32(3), object(3)\n",
      "memory usage: 9.8+ MB\n"
     ]
    }
   ],
   "source": [
    "df.info()"
   ]
  },
  {
   "cell_type": "markdown",
   "metadata": {},
   "source": [
    "----------------"
   ]
  },
  {
   "cell_type": "markdown",
   "metadata": {},
   "source": [
    "### Deal with Duplicate Values"
   ]
  },
  {
   "cell_type": "code",
   "execution_count": 22,
   "metadata": {},
   "outputs": [
    {
     "data": {
      "text/plain": [
       "24"
      ]
     },
     "execution_count": 22,
     "metadata": {},
     "output_type": "execute_result"
    }
   ],
   "source": [
    "df.duplicated().sum()"
   ]
  },
  {
   "cell_type": "code",
   "execution_count": 23,
   "metadata": {},
   "outputs": [],
   "source": [
    "df = df.drop_duplicates()"
   ]
  },
  {
   "cell_type": "code",
   "execution_count": 24,
   "metadata": {},
   "outputs": [
    {
     "name": "stdout",
     "output_type": "stream",
     "text": [
      "The total rows and columns in the dataset after droping the duplicates are: (95141, 14)\n",
      "Total droped rows are: 1312\n",
      "Only 1.36% data droped from the dataset\n"
     ]
    }
   ],
   "source": [
    "print(f'The total rows and columns in the dataset after droping the duplicates are: {df.shape}')\n",
    "print(f'Total droped rows are: {96453 - 95141}')\n",
    "print(f'Only {(1312 / 96453 ) * 100:.2f}% data droped from the dataset')"
   ]
  },
  {
   "cell_type": "markdown",
   "metadata": {},
   "source": [
    "---------"
   ]
  },
  {
   "cell_type": "markdown",
   "metadata": {},
   "source": [
    "### Deal with Outliers"
   ]
  },
  {
   "cell_type": "code",
   "execution_count": 25,
   "metadata": {},
   "outputs": [
    {
     "data": {
      "text/plain": [
       "['Temperature (C)',\n",
       " 'Apparent Temperature (C)',\n",
       " 'Humidity',\n",
       " 'Wind Speed (km/h)',\n",
       " 'Wind Bearing (degrees)',\n",
       " 'Visibility (km)',\n",
       " 'Pressure (millibars)']"
      ]
     },
     "execution_count": 25,
     "metadata": {},
     "output_type": "execute_result"
    }
   ],
   "source": [
    "num = ['Temperature (C)', 'Apparent Temperature (C)', 'Humidity',\n",
    "       'Wind Speed (km/h)', 'Wind Bearing (degrees)', 'Visibility (km)',\n",
    "       'Pressure (millibars)']\n",
    "num"
   ]
  },
  {
   "cell_type": "code",
   "execution_count": 26,
   "metadata": {},
   "outputs": [
    {
     "data": {
      "image/png": "[encoded data removed]",
      "text/plain": [
       "<Figure size 1800x1000 with 7 Axes>"
      ]
     },
     "metadata": {},
     "output_type": "display_data"
    }
   ],
   "source": [
    "plt.figure(figsize=(18, 10))\n",
    "\n",
    "for i, col in enumerate(num):\n",
    "    plt.subplot(3, 3, i+1)\n",
    "    sns.boxplot(y=df[col])\n",
    "    plt.title(f'Boxplot of {col}')\n",
    "\n",
    "plt.tight_layout()\n",
    "plt.show()"
   ]
  },
  {
   "cell_type": "code",
   "execution_count": 27,
   "metadata": {},
   "outputs": [
    {
     "name": "stdout",
     "output_type": "stream",
     "text": [
      "Column: Temperature (C), Outlier Count: 44\n",
      "Column: Apparent Temperature (C), Outlier Count: 22\n",
      "Column: Humidity, Outlier Count: 46\n",
      "Column: Wind Speed (km/h), Outlier Count: 2936\n",
      "Column: Wind Bearing (degrees), Outlier Count: 0\n",
      "Column: Visibility (km), Outlier Count: 0\n",
      "Column: Pressure (millibars), Outlier Count: 3268\n"
     ]
    }
   ],
   "source": [
    "outliers = {}\n",
    "\n",
    "for col in num:\n",
    "    q1 = df[col].quantile(0.25)\n",
    "    q3 = df[col].quantile(0.75)\n",
    "    IQR = q3 - q1\n",
    "    upper_limit = q3 + 1.5 * IQR\n",
    "    lower_limit = q1 - 1.5 * IQR\n",
    "    \n",
    "    outlier_count = df[(df[col] > upper_limit) | (df[col] < lower_limit)].shape[0]\n",
    "    \n",
    "    outliers[col] = outlier_count\n",
    "\n",
    "    print(f\"Column: {col}, Outlier Count: {outlier_count}\")"
   ]
  },
  {
   "cell_type": "code",
   "execution_count": 28,
   "metadata": {},
   "outputs": [],
   "source": [
    "df = df[(df[col] >= lower_limit) & (df[col] <= upper_limit)]"
   ]
  },
  {
   "cell_type": "code",
   "execution_count": 29,
   "metadata": {},
   "outputs": [
    {
     "name": "stdout",
     "output_type": "stream",
     "text": [
      "Total rows effected: 4580\n",
      "Percentage of rows effected: 4.75% out of 100\n"
     ]
    }
   ],
   "source": [
    "print(f'Total rows effected: {96453-91873}')\n",
    "print(f'Percentage of rows effected: {(4580 / 96453) * 100:.2f}% out of 100')\n"
   ]
  },
  {
   "cell_type": "markdown",
   "metadata": {},
   "source": [
    "----------------"
   ]
  },
  {
   "cell_type": "markdown",
   "metadata": {},
   "source": [
    "## Exploratory Data Analysis "
   ]
  },
  {
   "cell_type": "markdown",
   "metadata": {},
   "source": [
    "**season_mapping = {1: 'Winter', 2: 'Spring', 3: 'Summer', 4: 'Fall'}**"
   ]
  },
  {
   "cell_type": "code",
   "execution_count": 30,
   "metadata": {},
   "outputs": [],
   "source": [
    "df['season'] = df['Month'] % 12 // 3 + 1\n",
    "season_mapping = {1: 'Winter', 2: 'Spring', 3: 'Summer', 4: 'Fall'}\n",
    "df['season'] = df['season'].map(season_mapping)"
   ]
  },
  {
   "cell_type": "code",
   "execution_count": 31,
   "metadata": {},
   "outputs": [
    {
     "name": "stdout",
     "output_type": "stream",
     "text": [
      "<class 'pandas.core.frame.DataFrame'>\n",
      "Index: 91873 entries, 0 to 96452\n",
      "Data columns (total 15 columns):\n",
      " #   Column                    Non-Null Count  Dtype              \n",
      "---  ------                    --------------  -----              \n",
      " 0   Formatted Date            91873 non-null  datetime64[ns, UTC]\n",
      " 1   Summary                   91873 non-null  object             \n",
      " 2   Precip Type               91873 non-null  object             \n",
      " 3   Temperature (C)           91873 non-null  float64            \n",
      " 4   Apparent Temperature (C)  91873 non-null  float64            \n",
      " 5   Humidity                  91873 non-null  float64            \n",
      " 6   Wind Speed (km/h)         91873 non-null  float64            \n",
      " 7   Wind Bearing (degrees)    91873 non-null  float64            \n",
      " 8   Visibility (km)           91873 non-null  float64            \n",
      " 9   Pressure (millibars)      91873 non-null  float64            \n",
      " 10  Year                      91873 non-null  int32              \n",
      " 11  Month                     91873 non-null  int32              \n",
      " 12  Day                       91873 non-null  object             \n",
      " 13  Hour                      91873 non-null  int32              \n",
      " 14  season                    91873 non-null  object             \n",
      "dtypes: datetime64[ns, UTC](1), float64(7), int32(3), object(4)\n",
      "memory usage: 10.2+ MB\n"
     ]
    }
   ],
   "source": [
    "df.info()"
   ]
  },
  {
   "cell_type": "markdown",
   "metadata": {},
   "source": [
    "**Calculate Temperature Averages**"
   ]
  },
  {
   "cell_type": "code",
   "execution_count": 32,
   "metadata": {},
   "outputs": [
    {
     "data": {
      "text/plain": [
       "Month\n",
       "7     22.943994\n",
       "8     22.353799\n",
       "6     20.697367\n",
       "9     17.478120\n",
       "5     16.867761\n",
       "4     12.766871\n",
       "10    11.350116\n",
       "3      6.936920\n",
       "11     6.598639\n",
       "2      2.172700\n",
       "12     1.909140\n",
       "1      1.060046\n",
       "Name: Temperature (C), dtype: float64"
      ]
     },
     "execution_count": 32,
     "metadata": {},
     "output_type": "execute_result"
    }
   ],
   "source": [
    "monthly_avg_temp =df.groupby('Month')['Temperature (C)'].mean().sort_values(ascending=False)\n",
    "monthly_avg_temp"
   ]
  },
  {
   "cell_type": "code",
   "execution_count": 37,
   "metadata": {},
   "outputs": [
    {
     "data": {
      "image/png": "[encoded data removed]",
      "text/plain": [
       "<Figure size 1000x600 with 1 Axes>"
      ]
     },
     "metadata": {},
     "output_type": "display_data"
    }
   ],
   "source": [
    "# Monthly Average Temperature\n",
    "monthly_avg_temp =df.groupby('Month')['Temperature (C)'].mean().sort_values(ascending=False)\n",
    "\n",
    "plt.figure(figsize=(10, 6))\n",
    "sns.barplot(y=monthly_avg_temp.index, x=monthly_avg_temp.values, order=monthly_avg_temp.index,\n",
    "            orient='h', palette='coolwarm')\n",
    "plt.title('Monthly Average Temperature', fontsize=14)\n",
    "plt.xlabel('Average Temperature (C)', fontsize=12)\n",
    "plt.ylabel('Month', fontsize=12)\n",
    "\n",
    "plt.tight_layout()\n",
    "plt.show()\n"
   ]
  }
 ],
 "metadata": {
  "kernelspec": {
   "display_name": "main",
   "language": "python",
   "name": "python3"
  },
  "language_info": {
   "codemirror_mode": {
    "name": "ipython",
    "version": 3
   },
   "file_extension": ".py",
   "mimetype": "text/x-python",
   "name": "python",
   "nbconvert_exporter": "python",
   "pygments_lexer": "ipython3",
   "version": "3.12.3"
  }
 },
 "nbformat": 4,
 "nbformat_minor": 2
}
